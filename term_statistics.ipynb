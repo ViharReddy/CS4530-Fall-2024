{
  "nbformat": 4,
  "nbformat_minor": 0,
  "metadata": {
    "colab": {
      "name": "term-statistics.ipynb",
      "provenance": [],
      "include_colab_link": true
    },
    "kernelspec": {
      "name": "python3",
      "display_name": "Python 3"
    },
    "language_info": {
      "name": "python"
    }
  },
  "cells": [
    {
      "cell_type": "markdown",
      "metadata": {
        "id": "view-in-github",
        "colab_type": "text"
      },
      "source": [
        "<a href=\"https://colab.research.google.com/github/ViharReddy/CS4530-Fall-2024/blob/main/term_statistics.ipynb\" target=\"_parent\"><img src=\"https://colab.research.google.com/assets/colab-badge.svg\" alt=\"Open In Colab\"/></a>"
      ]
    },
    {
      "cell_type": "markdown",
      "metadata": {
        "id": "2yYCQrU0J5C5"
      },
      "source": [
        "# Working with Terms and Documents\n",
        "\n",
        "This exercise starts off with term statistics computations and graphing. In the final section (for CS6200 students), you collect new documents to experiment with.\n",
        "\n",
        "Read through this Jupyter notebook and fill in the parts marked with `TODO`."
      ]
    },
    {
      "cell_type": "markdown",
      "metadata": {
        "id": "tA4bCPS1MmAx"
      },
      "source": [
        "## Sample Data\n",
        "\n",
        "Start by looking at some sample data. We donwload the counts of terms in documents for the first one million tokens of a newswire collection."
      ]
    },
    {
      "cell_type": "code",
      "metadata": {
        "id": "W-IMINS4IFUg",
        "colab": {
          "base_uri": "https://localhost:8080/"
        },
        "outputId": "9852f05a-0f2a-4c5c-a88e-ac9a548044d3"
      },
      "source": [
        "!wget -O ap201001.json.gz https://github.com/dasmiq/cs6200-documents/blob/main/ap201001.json.gz?raw=true\n",
        "!gunzip ap201001.json.gz"
      ],
      "execution_count": 2,
      "outputs": [
        {
          "output_type": "stream",
          "name": "stdout",
          "text": [
            "--2025-01-27 00:12:48--  https://github.com/dasmiq/cs6200-documents/blob/main/ap201001.json.gz?raw=true\n",
            "Resolving github.com (github.com)... 140.82.112.4\n",
            "Connecting to github.com (github.com)|140.82.112.4|:443... connected.\n",
            "HTTP request sent, awaiting response... 302 Found\n",
            "Location: https://github.com/dasmiq/cs6200-documents/raw/refs/heads/main/ap201001.json.gz [following]\n",
            "--2025-01-27 00:12:48--  https://github.com/dasmiq/cs6200-documents/raw/refs/heads/main/ap201001.json.gz\n",
            "Reusing existing connection to github.com:443.\n",
            "HTTP request sent, awaiting response... 302 Found\n",
            "Location: https://raw.githubusercontent.com/dasmiq/cs6200-documents/refs/heads/main/ap201001.json.gz [following]\n",
            "--2025-01-27 00:12:49--  https://raw.githubusercontent.com/dasmiq/cs6200-documents/refs/heads/main/ap201001.json.gz\n",
            "Resolving raw.githubusercontent.com (raw.githubusercontent.com)... 185.199.108.133, 185.199.109.133, 185.199.110.133, ...\n",
            "Connecting to raw.githubusercontent.com (raw.githubusercontent.com)|185.199.108.133|:443... connected.\n",
            "HTTP request sent, awaiting response... 200 OK\n",
            "Length: 2854711 (2.7M) [application/octet-stream]\n",
            "Saving to: ‘ap201001.json.gz’\n",
            "\n",
            "ap201001.json.gz    100%[===================>]   2.72M  --.-KB/s    in 0.01s   \n",
            "\n",
            "2025-01-27 00:12:49 (190 MB/s) - ‘ap201001.json.gz’ saved [2854711/2854711]\n",
            "\n"
          ]
        }
      ]
    },
    {
      "cell_type": "markdown",
      "metadata": {
        "id": "_SEFjGZvM4lY"
      },
      "source": [
        "We convert this file with one JSON record on each line to a list of dictionaries."
      ]
    },
    {
      "cell_type": "code",
      "metadata": {
        "id": "6CrLD5SOIMz1"
      },
      "source": [
        "import json\n",
        "rawfile = open('ap201001.json')\n",
        "terms = [json.loads(line) for line in rawfile]"
      ],
      "execution_count": 3,
      "outputs": []
    },
    {
      "cell_type": "markdown",
      "metadata": {
        "id": "Rg4P9XJJM_lZ"
      },
      "source": [
        "Here are the first ten records, showing the count of each term for each document and field. In this dataset, field only takes the values `body` or `title`."
      ]
    },
    {
      "cell_type": "code",
      "metadata": {
        "colab": {
          "base_uri": "https://localhost:8080/"
        },
        "id": "g8GdOuyzI0wm",
        "outputId": "a17405b9-1fd2-49c2-9660-418794557227"
      },
      "source": [
        "terms[1:10]"
      ],
      "execution_count": 4,
      "outputs": [
        {
          "output_type": "execute_result",
          "data": {
            "text/plain": [
              "[{'id': 'APW_ENG_20100101.0001', 'field': 'body', 'term': 'about', 'count': 1},\n",
              " {'id': 'APW_ENG_20100101.0001', 'field': 'body', 'term': 'abuse', 'count': 1},\n",
              " {'id': 'APW_ENG_20100101.0001',\n",
              "  'field': 'body',\n",
              "  'term': 'academy',\n",
              "  'count': 1},\n",
              " {'id': 'APW_ENG_20100101.0001',\n",
              "  'field': 'body',\n",
              "  'term': 'accused',\n",
              "  'count': 2},\n",
              " {'id': 'APW_ENG_20100101.0001',\n",
              "  'field': 'body',\n",
              "  'term': 'actress',\n",
              "  'count': 1},\n",
              " {'id': 'APW_ENG_20100101.0001', 'field': 'body', 'term': 'ad', 'count': 1},\n",
              " {'id': 'APW_ENG_20100101.0001', 'field': 'body', 'term': 'after', 'count': 1},\n",
              " {'id': 'APW_ENG_20100101.0001',\n",
              "  'field': 'body',\n",
              "  'term': 'agenda',\n",
              "  'count': 1},\n",
              " {'id': 'APW_ENG_20100101.0001',\n",
              "  'field': 'body',\n",
              "  'term': 'agreed',\n",
              "  'count': 1}]"
            ]
          },
          "metadata": {},
          "execution_count": 4
        }
      ]
    },
    {
      "cell_type": "markdown",
      "metadata": {
        "id": "q-CjFLXH3BJg"
      },
      "source": [
        "Each record has four fields:\n",
        "* `id`, with the identifier for the document;\n",
        "* `field`, with the region of the document containing a given term;\n",
        "* `term`, with the lower-cased term; and\n",
        "* `count`, with the number of times each term occurred in that field and document."
      ]
    },
    {
      "cell_type": "markdown",
      "metadata": {
        "id": "2H5yBvEVNUPr"
      },
      "source": [
        "## Computing Term Statistics\n"
      ]
    },
    {
      "cell_type": "markdown",
      "metadata": {
        "id": "qhDt23kKv0Uy"
      },
      "source": [
        "If we look at the most frequent terms for a given document, we mostly see common function words, such as `the`, `and`, and `of`. Start exploring the dataset by computing some of these basic term statistics. You can make your life easier using data frame libraries such as `pandas`, core python libraries such as `collections`, or just simple list comprehensions.\n",
        "\n",
        "Feel free to define helper functions in your code before computing the statistics we're looking for."
      ]
    },
    {
      "cell_type": "code",
      "metadata": {
        "id": "2Zy5qR562nZ5",
        "colab": {
          "base_uri": "https://localhost:8080/"
        },
        "outputId": "f2749a6c-e6bb-410f-b140-3667b9573203"
      },
      "source": [
        "# TODO: Print the 10 terms from document APW_ENG_20100101.0001 with the highest count.\n",
        "# Filter terms by the document ID\n",
        "filtered_terms = [term for term in terms if term['id'] == 'APW_ENG_20100101.0001']\n",
        "\n",
        "# Sort the filtered terms by 'count' in descending order\n",
        "sorted_terms = sorted(filtered_terms, key=lambda x: x['count'], reverse=True)\n",
        "\n",
        "# Get the top 10 terms\n",
        "sorted_terms[:10]"
      ],
      "execution_count": 5,
      "outputs": [
        {
          "output_type": "execute_result",
          "data": {
            "text/plain": [
              "[{'id': 'APW_ENG_20100101.0001', 'field': 'body', 'term': 'a', 'count': 16},\n",
              " {'id': 'APW_ENG_20100101.0001', 'field': 'body', 'term': 'the', 'count': 11},\n",
              " {'id': 'APW_ENG_20100101.0001', 'field': 'body', 'term': 'and', 'count': 10},\n",
              " {'id': 'APW_ENG_20100101.0001',\n",
              "  'field': 'body',\n",
              "  'term': 'brooks',\n",
              "  'count': 10},\n",
              " {'id': 'APW_ENG_20100101.0001', 'field': 'body', 'term': 'of', 'count': 10},\n",
              " {'id': 'APW_ENG_20100101.0001', 'field': 'body', 'term': 'to', 'count': 10},\n",
              " {'id': 'APW_ENG_20100101.0001', 'field': 'body', 'term': 'he', 'count': 9},\n",
              " {'id': 'APW_ENG_20100101.0001', 'field': 'body', 'term': 'in', 'count': 9},\n",
              " {'id': 'APW_ENG_20100101.0001', 'field': 'body', 'term': 'gomez', 'count': 8},\n",
              " {'id': 'APW_ENG_20100101.0001', 'field': 'body', 'term': 'for', 'count': 6}]"
            ]
          },
          "metadata": {},
          "execution_count": 5
        }
      ]
    },
    {
      "cell_type": "code",
      "metadata": {
        "id": "U7OwCo0w5R1q",
        "colab": {
          "base_uri": "https://localhost:8080/"
        },
        "outputId": "5489e031-3cbe-4850-9e07-3fda78497f6f"
      },
      "source": [
        "# TODO: Print the 10 terms with the highest total count in the corpus.\n",
        "\n",
        "from collections import defaultdict\n",
        "\n",
        "# Aggregate the counts for each term\n",
        "term_counts = defaultdict(int)\n",
        "for entry in terms:\n",
        "  term_counts[entry['term']] += entry['count']\n",
        "\n",
        "# Sort terms by their total count in descending order\n",
        "sorted_term_counts = sorted(term_counts.items(), key=lambda x: x[1], reverse=True)\n",
        "\n",
        "# Get the top 10 term counts\n",
        "sorted_term_counts[:10]"
      ],
      "execution_count": 6,
      "outputs": [
        {
          "output_type": "execute_result",
          "data": {
            "text/plain": [
              "[('the', 62216),\n",
              " ('to', 26931),\n",
              " ('in', 25659),\n",
              " ('a', 23383),\n",
              " ('of', 22326),\n",
              " ('and', 22125),\n",
              " ('said', 10888),\n",
              " ('for', 9716),\n",
              " ('on', 9382),\n",
              " ('that', 8942)]"
            ]
          },
          "metadata": {},
          "execution_count": 6
        }
      ]
    },
    {
      "cell_type": "markdown",
      "metadata": {
        "id": "dnNEUACW23Dd"
      },
      "source": [
        "Raw counts may not be the most informative statistic. One common improvement is to use *inverse document frequency*, the inverse of the proportion of documents that contain a given term."
      ]
    },
    {
      "cell_type": "code",
      "metadata": {
        "id": "uiUA502P2QkH"
      },
      "source": [
        "# TODO: Compute the number of distinct documents in the collection.\n",
        "distinct_documents = set(entry['id'] for entry in terms)\n",
        "N = len(distinct_documents)\n",
        "\n",
        "# TODO: Compute the number of distinct documents each term appears in\n",
        "# and store in a dictionary.\n",
        "df = dict()\n",
        "\n",
        "for entry in terms:\n",
        "  term = entry['term']\n",
        "  doc_id = entry['id']\n",
        "\n",
        "  if term not in df:\n",
        "    df[term] = set()\n",
        "  df[term].add(doc_id)\n",
        "\n",
        "df = {term: len(doc_ids) for term, doc_ids in df.items()}"
      ],
      "execution_count": 7,
      "outputs": []
    },
    {
      "cell_type": "code",
      "metadata": {
        "id": "_XMPAKYNCq6Y",
        "colab": {
          "base_uri": "https://localhost:8080/"
        },
        "outputId": "ecec9618-b058-435c-e244-fa716ee43f92"
      },
      "source": [
        "# TODO: Print the relative document frequency of 'the',\n",
        "# i.e., the number of documents that contain 'the' divided by N.\n",
        "\n",
        "term = \"the\"\n",
        "doc_count = df.get(term, 0)\n",
        "relative_df = doc_count / N\n",
        "\n",
        "print(f\"Relative Document Frequency of 'the': {relative_df:.4f}\")"
      ],
      "execution_count": 8,
      "outputs": [
        {
          "output_type": "stream",
          "name": "stdout",
          "text": [
            "Relative Document Frequency of 'the': 0.9705\n"
          ]
        }
      ]
    },
    {
      "cell_type": "markdown",
      "metadata": {
        "id": "ohFmwtc7Chy3"
      },
      "source": [
        "Empricially, we usually see better retrieval results if we rescale term frequency (within documents) and inverse document frequency (across documents) with the log function. Let the `tfidf` of term _t_ in document _d_ be:\n",
        "```\n",
        "tfidf(t, d) = log(count(t, d) + 1) * log(N / df(t))\n",
        "```\n",
        "\n",
        "Later in the course, we will show a probabilistic derivation of this quantity based on smoothing language models."
      ]
    },
    {
      "cell_type": "code",
      "metadata": {
        "id": "Fmyj4v_uHdyo"
      },
      "source": [
        "# TODO: Compute the tf-idf value for each term in each document.\n",
        "# Take the raw term data and add a tfidf field to each record.\n",
        "\n",
        "import math\n",
        "\n",
        "tfidf_terms = []\n",
        "\n",
        "for entry in terms:\n",
        "  term = entry['term']\n",
        "  doc_id = entry['id']\n",
        "  count_t_d = entry['count'] # term frequency in the document\n",
        "  df_t = df.get(term, 1) # document frequency for the term, default to 1 to avoid division by zero\n",
        "\n",
        "  tfidf = math.log(count_t_d + 1) * math.log(N / df_t)\n",
        "  new_entry = {\n",
        "      **entry, # copy all existing fields\n",
        "      'tfidf': tfidf # add the tfidf field\n",
        "  }\n",
        "  tfidf_terms.append(new_entry)"
      ],
      "execution_count": 10,
      "outputs": []
    },
    {
      "cell_type": "code",
      "metadata": {
        "id": "NlXQmMO9HxH0",
        "colab": {
          "base_uri": "https://localhost:8080/"
        },
        "outputId": "b957fa4b-1cb1-44f3-cb98-a153717ff104"
      },
      "source": [
        "# TODO: Print the 20 term-document pairs with the highest tf-idf values.\n",
        "tfidf_terms_sorted = sorted(tfidf_terms, key=lambda x: x['tfidf'], reverse=True)\n",
        "\n",
        "tfidf_terms_sorted[:20]"
      ],
      "execution_count": 11,
      "outputs": [
        {
          "output_type": "execute_result",
          "data": {
            "text/plain": [
              "[{'id': 'APW_ENG_20100103.0028',\n",
              "  'field': 'body',\n",
              "  'term': 'guarani',\n",
              "  'count': 24,\n",
              "  'tfidf': 23.292877770934602},\n",
              " {'id': 'APW_ENG_20100105.0061',\n",
              "  'field': 'body',\n",
              "  'term': 'nomination',\n",
              "  'count': 95,\n",
              "  'tfidf': 22.519372287040166},\n",
              " {'id': 'APW_ENG_20100105.0446',\n",
              "  'field': 'body',\n",
              "  'term': 'methane',\n",
              "  'count': 15,\n",
              "  'tfidf': 21.98520490769353},\n",
              " {'id': 'APW_ENG_20100103.0015',\n",
              "  'field': 'body',\n",
              "  'term': 'kheire',\n",
              "  'count': 14,\n",
              "  'tfidf': 21.473447574098525},\n",
              " {'id': 'APW_ENG_20100105.0014',\n",
              "  'field': 'body',\n",
              "  'term': 'greyhound',\n",
              "  'count': 14,\n",
              "  'tfidf': 21.473447574098525},\n",
              " {'id': 'APW_ENG_20100107.0036',\n",
              "  'field': 'body',\n",
              "  'term': 'shakespeare',\n",
              "  'count': 18,\n",
              "  'tfidf': 21.30695962728155},\n",
              " {'id': 'APW_ENG_20100105.0061',\n",
              "  'field': 'body',\n",
              "  'term': 'guild',\n",
              "  'count': 28,\n",
              "  'tfidf': 20.667542714819742},\n",
              " {'id': 'APW_ENG_20100106.0428',\n",
              "  'field': 'body',\n",
              "  'term': 'shakespeare',\n",
              "  'count': 16,\n",
              "  'tfidf': 20.502093188010598},\n",
              " {'id': 'APW_ENG_20100102.0197',\n",
              "  'field': 'body',\n",
              "  'term': 'elkhart',\n",
              "  'count': 12,\n",
              "  'tfidf': 20.3387313629749},\n",
              " {'id': 'APW_ENG_20100106.0075',\n",
              "  'field': 'body',\n",
              "  'term': 'magna',\n",
              "  'count': 12,\n",
              "  'tfidf': 20.3387313629749},\n",
              " {'id': 'APW_ENG_20100106.1325',\n",
              "  'field': 'body',\n",
              "  'term': 'sutton',\n",
              "  'count': 20,\n",
              "  'tfidf': 19.920895352136885},\n",
              " {'id': 'APW_ENG_20100104.0043',\n",
              "  'field': 'body',\n",
              "  'term': 'tohti',\n",
              "  'count': 11,\n",
              "  'tfidf': 19.70403379118801},\n",
              " {'id': 'APW_ENG_20100105.0014',\n",
              "  'field': 'body',\n",
              "  'term': 'greyhounds',\n",
              "  'count': 11,\n",
              "  'tfidf': 19.70403379118801},\n",
              " {'id': 'APW_ENG_20100107.0018',\n",
              "  'field': 'body',\n",
              "  'term': 'krewe',\n",
              "  'count': 11,\n",
              "  'tfidf': 19.70403379118801},\n",
              " {'id': 'APW_ENG_20100107.0928',\n",
              "  'field': 'body',\n",
              "  'term': 'minhas',\n",
              "  'count': 11,\n",
              "  'tfidf': 19.70403379118801},\n",
              " {'id': 'APW_ENG_20100105.0061',\n",
              "  'field': 'body',\n",
              "  'term': 'golden',\n",
              "  'count': 70,\n",
              "  'tfidf': 19.30264700154524},\n",
              " {'id': 'APW_ENG_20100105.0061',\n",
              "  'field': 'body',\n",
              "  'term': 'actors',\n",
              "  'count': 26,\n",
              "  'tfidf': 19.28079391825445},\n",
              " {'id': 'APW_ENG_20100107.0018',\n",
              "  'field': 'body',\n",
              "  'term': 'pirate',\n",
              "  'count': 20,\n",
              "  'tfidf': 19.241529803327488},\n",
              " {'id': 'APW_ENG_20100103.0016',\n",
              "  'field': 'body',\n",
              "  'term': 'punk',\n",
              "  'count': 13,\n",
              "  'tfidf': 19.097114382079113},\n",
              " {'id': 'APW_ENG_20100104.0108',\n",
              "  'field': 'body',\n",
              "  'term': 'shiites',\n",
              "  'count': 10,\n",
              "  'tfidf': 19.01407824997372}]"
            ]
          },
          "metadata": {},
          "execution_count": 11
        }
      ]
    },
    {
      "cell_type": "markdown",
      "metadata": {
        "id": "f61xitl1IApl"
      },
      "source": [
        "## Plotting Term Distributions\n",
        "\n",
        "Besides frequencies and tf-idf values within documents, it is often helpful to look at the distrubitions of word frequencies in the whole collection. In class, we talk about the Zipf distribution of word rank versus frequency and Heaps' Law relating the number of distinct words to the number of tokens.\n",
        "\n",
        "We might examine these distributions to see, for instance, if an unexpectedly large number of very rare terms occurs, which might indicate noise added to our data."
      ]
    },
    {
      "cell_type": "code",
      "metadata": {
        "id": "fsM5k1_5Jj7Y",
        "colab": {
          "base_uri": "https://localhost:8080/"
        },
        "outputId": "424d38cd-64fe-4250-9b53-1892c7558e77"
      },
      "source": [
        "# TODO: Compute a list of the distinct words in this collection and sort it in descending order of frequency.\n",
        "# Thus frequency[0] should contain the word \"the\" and the count 62216.\n",
        "frequency = []\n",
        "\n",
        "term_freq = defaultdict(int)\n",
        "for entry in terms:\n",
        "  term = entry['term']\n",
        "  count = entry['count']\n",
        "  term_freq[term] += count\n",
        "\n",
        "frequency = sorted(term_freq.items(), key=lambda x: x[1], reverse=True)\n",
        "\n",
        "frequency[0]"
      ],
      "execution_count": 12,
      "outputs": [
        {
          "output_type": "execute_result",
          "data": {
            "text/plain": [
              "('the', 62216)"
            ]
          },
          "metadata": {},
          "execution_count": 12
        }
      ]
    },
    {
      "cell_type": "code",
      "metadata": {
        "id": "hdtc14EULkxS",
        "colab": {
          "base_uri": "https://localhost:8080/",
          "height": 569
        },
        "outputId": "5f8698a0-121f-4bcd-be26-4d675a2356d6"
      },
      "source": [
        "# TODO: Plot a graph of the log of the rank (starting at 1) on the x-axis,\n",
        "# against the log of the frequency on the y-axis. You may use the matplotlib\n",
        "# or other library.\n",
        "\n",
        "import matplotlib.pyplot as plt\n",
        "import numpy as np\n",
        "\n",
        "words, frequencies = zip(*frequency)\n",
        "\n",
        "ranks = np.arange(1, len(frequency) + 1)\n",
        "log_ranks = np.log(ranks)\n",
        "log_frequencies = np.log(frequencies)\n",
        "\n",
        "plt.figure(figsize=(10, 6))\n",
        "plt.plot(log_ranks, log_frequencies, marker='o', linestyle='-', markersize=3, label=\"Log(Rank) vs Log(Frequency)\")\n",
        "\n",
        "plt.xlabel(\"Log(Rank)\", fontsize=12)\n",
        "plt.ylabel(\"Log(Frequency)\", fontsize=12)\n",
        "plt.title(\"Log-Log Plot of Rank vs Frequency\", fontsize=14)\n",
        "plt.legend()\n",
        "plt.show()"
      ],
      "execution_count": 14,
      "outputs": [
        {
          "output_type": "display_data",
          "data": {
            "text/plain": [
              "<Figure size 1000x600 with 1 Axes>"
            ],
            "image/png": "[encoded data removed]"
          },
          "metadata": {}
        }
      ]
    },
    {
      "cell_type": "code",
      "source": [
        "# TODO: Compute the number of tokens in the corpus.\n",
        "# Remember to count each occurrence of each word. For instance, the 62,216\n",
        "# instances of \"the\" will all count here.\n",
        "ntokens = sum(entry['count'] for entry in terms)\n",
        "\n",
        "ntokens"
      ],
      "metadata": {
        "id": "-WdHjFCSC7WC",
        "colab": {
          "base_uri": "https://localhost:8080/"
        },
        "outputId": "0eb31e46-6084-49ab-975b-5e5e7a152c36"
      },
      "execution_count": 15,
      "outputs": [
        {
          "output_type": "execute_result",
          "data": {
            "text/plain": [
              "1000000"
            ]
          },
          "metadata": {},
          "execution_count": 15
        }
      ]
    },
    {
      "cell_type": "code",
      "source": [
        "# TODO: Compute the proportion of tokens made up by the top 10 most\n",
        "# frequent words.\n",
        "\n",
        "top_10_freq = sum(freq for _, freq in frequency[:10])\n",
        "\n",
        "proportion_top_10 = top_10_freq / ntokens\n",
        "\n",
        "proportion_top_10"
      ],
      "metadata": {
        "id": "V_7wOcqKAz9m",
        "colab": {
          "base_uri": "https://localhost:8080/"
        },
        "outputId": "c19a1038-b192-429e-bc8e-aaf9adeef7e1"
      },
      "execution_count": 21,
      "outputs": [
        {
          "output_type": "execute_result",
          "data": {
            "text/plain": [
              "0.221568"
            ]
          },
          "metadata": {},
          "execution_count": 21
        }
      ]
    },
    {
      "cell_type": "code",
      "source": [
        "# TODO: Compute the proportion of tokens made up by the words that occur\n",
        "# exactly once in this collection.\n",
        "\n",
        "freq_once = sum(freq for _, freq in frequency if freq == 1)\n",
        "\n",
        "proportion_freq_once = freq_once / ntokens\n",
        "\n",
        "proportion_freq_once"
      ],
      "metadata": {
        "id": "uF-1VxcZBXMM",
        "colab": {
          "base_uri": "https://localhost:8080/"
        },
        "outputId": "1845d269-d8fc-4070-a19c-ea149e27498b"
      },
      "execution_count": 22,
      "outputs": [
        {
          "output_type": "execute_result",
          "data": {
            "text/plain": [
              "0.006641"
            ]
          },
          "metadata": {},
          "execution_count": 22
        }
      ]
    },
    {
      "cell_type": "markdown",
      "metadata": {
        "id": "GdiUXaXZMFqT"
      },
      "source": [
        "## Acquiring New Documents (for CS6200)\n",
        "\n",
        "For this assignment so far, you've worked with data that's already been extracted, tokenized, and counted. In this final section, you'll explore acquiring new data.\n",
        "\n",
        "One common way of acquiring data is through application programming interfaces (APIs) to various databases. The Library of Congress's [_Chronicling America_](https://chroniclingamerica.loc.gov/) site aggregates digitized US newspapers from the past two hundred years, such as the [_Seattle Star_](https://chroniclingamerica.loc.gov/lccn/sn87093407/1925-01-17/ed-1/seq-1/) from 100 years ago.\n",
        "\n",
        "You can use [the API](https://chroniclingamerica.loc.gov/about/api/) to retrieve JSON data listing all issues of the _Seattle Star_: https://chroniclingamerica.loc.gov/lccn/sn87093407.json\n",
        "\n",
        "Note the list in the `issues` field. For example, here is the record for the January 17, 1925, issue: https://chroniclingamerica.loc.gov/lccn/sn87093407/1925-01-17/ed-1.json\n",
        "\n",
        "In that issue record, you'll see records for each page, e.g.: https://chroniclingamerica.loc.gov/lccn/sn87093407/1925-01-17/ed-1/seq-1.json\n",
        "\n",
        "And inside that page record, you'll see links to data about that page in various data formats, such as JPEG, PDF, and plain text, which is what we want here: https://chroniclingamerica.loc.gov/lccn/sn87093407/1925-01-17/ed-1/seq-1/ocr.txt\n",
        "\n",
        "This plain text was transcribed from the old page images using optical character recognition (OCR) models, and so contains errors.\n",
        "\n",
        "Your task is to acquire and analyze the issues of the _Seattle Star_ from the month of January, 1925, i.e., the issues with a date field that starts with `1925-01`. This should be about the same amount of data as the million words from the Associated Press you analyzed in the last section."
      ]
    },
    {
      "cell_type": "markdown",
      "metadata": {
        "id": "EGPVnXv2O6AN"
      },
      "source": [
        "**TODO**: Write code that calls the _Chronicling America_ API to download and extract the text from the _Seattle Star_ from January 1925. You can use the `json` library from above and any other libraries you wish to fetch data from URLs. As you would when working with any production API, you may need to limit your rate of requests."
      ]
    },
    {
      "cell_type": "code",
      "metadata": {
        "id": "VeDDz1SaPLik"
      },
      "source": [
        "# TODO: Data acquisition code here."
      ],
      "execution_count": null,
      "outputs": []
    },
    {
      "cell_type": "markdown",
      "metadata": {
        "id": "L1-oRTixPKbw"
      },
      "source": [
        "**TODO**: Write code to tokenize the text and count the resulting terms in each document. Since this data comes from automatically transcribing printed pages, some words may be hyphenated across line breaks. There is more than one right way to tokenize this data, so add comments to your code documenting your choices."
      ]
    },
    {
      "cell_type": "code",
      "metadata": {
        "id": "Ydsh0h74Pnlh"
      },
      "source": [
        "# TODO: Tokenization code here."
      ],
      "execution_count": null,
      "outputs": []
    },
    {
      "cell_type": "markdown",
      "metadata": {
        "id": "D-boFCotQ4Ur"
      },
      "source": [
        "**TODO**: Plot a graph of the log rank against log frequency for your collection, as you did for the sample collection above."
      ]
    },
    {
      "cell_type": "code",
      "source": [
        "# TODO: Plotting code here."
      ],
      "metadata": {
        "id": "-Z35asgBjiqO"
      },
      "execution_count": null,
      "outputs": []
    },
    {
      "cell_type": "markdown",
      "source": [
        "**TODO**: What do you observe about the differences between the distributions of the Associated Press and Seattle Star collections? In this text box, give some possible reasons for these differences."
      ],
      "metadata": {
        "id": "D5B-h__CjpvI"
      }
    }
  ]
}